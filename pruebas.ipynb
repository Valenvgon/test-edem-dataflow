{
 "cells": [
  {
   "cell_type": "code",
   "execution_count": 27,
   "metadata": {},
   "outputs": [],
   "source": [
    "import json \n",
    "import requests\n",
    "import io\n",
    "\n"
   ]
  },
  {
   "cell_type": "code",
   "execution_count": 30,
   "metadata": {},
   "outputs": [
    {
     "ename": "TypeError",
     "evalue": "getTrafficImage() missing 2 required positional arguments: 'item' and 'api_url'",
     "output_type": "error",
     "traceback": [
      "\u001b[0;31m---------------------------------------------------------------------------\u001b[0m",
      "\u001b[0;31mTypeError\u001b[0m                                 Traceback (most recent call last)",
      "Cell \u001b[0;32mIn[30], line 31\u001b[0m\n\u001b[1;32m     27\u001b[0m     image \u001b[38;5;241m=\u001b[39m json\u001b[38;5;241m.\u001b[39mloads( image_bytes\u001b[38;5;241m.\u001b[39mdecode(\u001b[38;5;124m'\u001b[39m\u001b[38;5;124mutf-8\u001b[39m\u001b[38;5;124m'\u001b[39m) )[\u001b[38;5;124m'\u001b[39m\u001b[38;5;124mimage_url\u001b[39m\u001b[38;5;124m'\u001b[39m]\n\u001b[1;32m     29\u001b[0m     \u001b[38;5;28;01mreturn\u001b[39;00m item, image\n\u001b[0;32m---> 31\u001b[0m caca \u001b[38;5;241m=\u001b[39m \u001b[43mgetTrafficImage\u001b[49m\u001b[43m(\u001b[49m\u001b[43m)\u001b[49m\n",
      "\u001b[0;31mTypeError\u001b[0m: getTrafficImage() missing 2 required positional arguments: 'item' and 'api_url'"
     ]
    }
   ],
   "source": [
    ":\n",
    "\n",
    "    \"\"\"\n",
    "    Simulates the images captured by the various cameras equipped on the vehicle\n",
    "\n",
    "    Params:\n",
    "        item (dict): A single element from the input PCollection, representing the\n",
    "            payload with the upstream data.\n",
    "        api_url(str): API that returns different images simulating the environment captured by the vehicle.\n",
    "\n",
    "    Returns:\n",
    "        tuple (dict, Bytes): A tuple where:\n",
    "        - The first element is the same payload as input.\n",
    "        - The second element is the image in bytes for model inference.\n",
    "    \"\"\"\n",
    "\n",
    "    import requests\n",
    "    import io\n",
    "\n",
    "    # API call to simulate a photo captured by the radar\n",
    "    response = requests.get(api_url)\n",
    "\n",
    "    # Read image from URL\n",
    "    image_bytes = io.BytesIO(response.content).read()\n",
    "\n",
    "    # Append image_url to the payload\n",
    "    image = json.loads( image_bytes.decode('utf-8') )['image_url']\n",
    "\n",
    "   \n",
    "\n"
   ]
  },
  {
   "cell_type": "code",
   "execution_count": 13,
   "metadata": {},
   "outputs": [
    {
     "data": {
      "text/plain": [
       "'https://storage.googleapis.com/vehicle_traffic_images_edem/low.png'"
      ]
     },
     "execution_count": 13,
     "metadata": {},
     "output_type": "execute_result"
    }
   ],
   "source": [
    "json.loads(response.content.decode('utf-8'))['image_url']"
   ]
  },
  {
   "cell_type": "code",
   "execution_count": 1,
   "metadata": {},
   "outputs": [],
   "source": [
    "test = ('V005', ([{'vehicle_id': 'V005', 'timestamp': '2025-02-05T16:48:18Z', 'battery_level': 78, 'event_type': 'driving'}, {'vehicle_id': 'V005', 'timestamp': '2025-02-05T16:46:45Z', 'battery_level': 100, 'event_type': 'charging'}], [], []))"
   ]
  },
  {
   "cell_type": "markdown",
   "metadata": {},
   "source": [
    "esta es la pcollection que tenemos ahora en la linia 525"
   ]
  }
 ],
 "metadata": {
  "kernelspec": {
   "display_name": "edem",
   "language": "python",
   "name": "python3"
  },
  "language_info": {
   "codemirror_mode": {
    "name": "ipython",
    "version": 3
   },
   "file_extension": ".py",
   "mimetype": "text/x-python",
   "name": "python",
   "nbconvert_exporter": "python",
   "pygments_lexer": "ipython3",
   "version": "3.10.16"
  }
 },
 "nbformat": 4,
 "nbformat_minor": 2
}
